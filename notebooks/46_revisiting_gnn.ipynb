{
 "cells": [
  {
   "cell_type": "markdown",
   "metadata": {},
   "source": [
    "This notebook uses graph neural networks to predict cell types (subclass, supertype).\n",
    "\n",
    "We consider cells as nodes and their gene expression as initial node features.\n",
    "\n",
    "Graphs are constructed in 3 different ways: self edges, edges from a k-nearest-neighbors graph, and peptidergic communication networks (directed multilayer graphs).\n",
    "\n",
    "Cell type prediction is challenging when few genes are available.\n",
    "\n",
    "We find that gene expression in neighboring cells can improve classification in this regime"
   ]
  },
  {
   "cell_type": "code",
   "execution_count": 1,
   "metadata": {},
   "outputs": [
    {
     "name": "stderr",
     "output_type": "stream",
     "text": [
      "/allen/programs/celltypes/workgroups/mousecelltypes/Donghyun/envs/miniconda3/envs/pyg/lib/python3.9/site-packages/anndata/_core/aligned_df.py:67: ImplicitModificationWarning: Transforming to str index.\n",
      "  warnings.warn(\"Transforming to str index.\", ImplicitModificationWarning)\n"
     ]
    }
   ],
   "source": [
    "import numpy as np\n",
    "import pandas as pd\n",
    "import torch\n",
    "import matplotlib.pyplot as plt\n",
    "import scanpy as sc\n",
    "from sklearn.neighbors import kneighbors_graph\n",
    "from torch_geometric.data import Data\n",
    "from torch_geometric.utils import add_remaining_self_loops, from_scipy_sparse_matrix\n",
    "\n",
    "from cci.gnn import GATnet, GCNnet, train_gnn, val_gnn, test_gnn\n",
    "from scipy.sparse import csr_array\n",
    "from sklearn.model_selection import StratifiedKFold\n",
    "import seaborn as sns\n",
    "from cci.utils import get_adata, get_new_gene_subsets\n",
    "from collections import Counter\n",
    "\n",
    "custom_params = {\"axes.spines.right\": False, \"axes.spines.top\": False}\n",
    "sns.set_theme(style=\"ticks\", font_scale=0.5, rc=custom_params)\n",
    "%config InlineBackend.figure_format=\"retina\"\n",
    "\n",
    "adata = get_adata(\"VISp\")"
   ]
  },
  {
   "cell_type": "code",
   "execution_count": 2,
   "metadata": {},
   "outputs": [
    {
     "data": {
      "text/html": [
       "<div>\n",
       "<style scoped>\n",
       "    .dataframe tbody tr th:only-of-type {\n",
       "        vertical-align: middle;\n",
       "    }\n",
       "\n",
       "    .dataframe tbody tr th {\n",
       "        vertical-align: top;\n",
       "    }\n",
       "\n",
       "    .dataframe thead th {\n",
       "        text-align: right;\n",
       "    }\n",
       "</style>\n",
       "<table border=\"1\" class=\"dataframe\">\n",
       "  <thead>\n",
       "    <tr style=\"text-align: right;\">\n",
       "      <th></th>\n",
       "      <th></th>\n",
       "      <th>count</th>\n",
       "    </tr>\n",
       "    <tr>\n",
       "      <th>brain_section_label</th>\n",
       "      <th>z_section</th>\n",
       "      <th></th>\n",
       "    </tr>\n",
       "  </thead>\n",
       "  <tbody>\n",
       "    <tr>\n",
       "      <th>C57BL6J-638850.30</th>\n",
       "      <th>5.0</th>\n",
       "      <td>9242</td>\n",
       "    </tr>\n",
       "    <tr>\n",
       "      <th>C57BL6J-638850.29</th>\n",
       "      <th>4.8</th>\n",
       "      <td>8713</td>\n",
       "    </tr>\n",
       "    <tr>\n",
       "      <th>C57BL6J-638850.28</th>\n",
       "      <th>4.6</th>\n",
       "      <td>7780</td>\n",
       "    </tr>\n",
       "    <tr>\n",
       "      <th>C57BL6J-638850.31</th>\n",
       "      <th>5.4</th>\n",
       "      <td>6939</td>\n",
       "    </tr>\n",
       "  </tbody>\n",
       "</table>\n",
       "</div>"
      ],
      "text/plain": [
       "                               count\n",
       "brain_section_label z_section       \n",
       "C57BL6J-638850.30   5.0         9242\n",
       "C57BL6J-638850.29   4.8         8713\n",
       "C57BL6J-638850.28   4.6         7780\n",
       "C57BL6J-638850.31   5.4         6939"
      ]
     },
     "metadata": {},
     "output_type": "display_data"
    }
   ],
   "source": [
    "# Create a dataframe from a slice of VISp with the most cells\n",
    "display(adata.obs[[\"brain_section_label\", \"z_section\"]].sort_values(\"z_section\").value_counts().to_frame().head(4))\n",
    "one_sec = adata[adata.obs[\"z_section\"] == 5.0, :]\n",
    "df = one_sec.obs.copy()"
   ]
  },
  {
   "cell_type": "code",
   "execution_count": 4,
   "metadata": {},
   "outputs": [],
   "source": [
    "# Graph construction hyperparameters\n",
    "d = 40 / 1000  # (in mm)\n",
    "L_thr = 0.0\n",
    "R_thr = 0.0\n",
    "lr_gene_pairs = [[\"Tac2\", \"Tacr3\"], [\"Penk\", \"Oprd1\"], [\"Pdyn\", \"Oprd1\"], [\"Pdyn\", \"Oprk1\"], [\"Grp\", \"Grpr\"]]\n",
    "n_layers = len(lr_gene_pairs)\n",
    "num_nodes = df.shape[0]\n",
    "cell_type = \"supertype\""
   ]
  },
  {
   "cell_type": "code",
   "execution_count": 6,
   "metadata": {},
   "outputs": [],
   "source": [
    "edge_index_list = [None] * n_layers\n",
    "df[\"participant\"] = np.zeros(num_nodes, dtype=bool)\n",
    "\n",
    "# Edgelist from multi-layer graphs\n",
    "for i in range(n_layers):\n",
    "    ligand, receptor = lr_gene_pairs[i]\n",
    "    df[\"L\"] = one_sec[:, one_sec.var[\"gene_symbol\"] == ligand].X.toarray().ravel()\n",
    "    df[\"R\"] = one_sec[:, one_sec.var[\"gene_symbol\"] == receptor].X.toarray().ravel()\n",
    "\n",
    "    df[\"L\"] = (df[\"L\"] > L_thr).astype(bool)\n",
    "    df[\"R\"] = (df[\"R\"] > R_thr).astype(bool)\n",
    "\n",
    "    A = df[\"L\"].values.reshape(-1, 1) @ df[\"R\"].values.reshape(1, -1)\n",
    "    Dx = (df[\"x_reconstructed\"].values.reshape(-1, 1) - df[\"x_reconstructed\"].values.reshape(1, -1)) ** 2\n",
    "    Dy = (df[\"y_reconstructed\"].values.reshape(-1, 1) - df[\"y_reconstructed\"].values.reshape(1, -1)) ** 2\n",
    "    D = np.sqrt(Dx + Dy)\n",
    "    del Dx, Dy\n",
    "\n",
    "    # cells are connected only if within distance d\n",
    "    A[D > d] = 0\n",
    "\n",
    "    # participant should have more than one connection\n",
    "    df[\"participant\"] = df[\"participant\"] + (A.sum(axis=1) > 1)\n",
    "\n",
    "    # construct directed graph from adjacency matrix\n",
    "    edge_index_list[i], _ = from_scipy_sparse_matrix(csr_array(A))\n",
    "\n",
    "\n",
    "# Squash the multi-layer graph into a single layer graph  \n",
    "edge_index_squashed = set(edge_index_list[0].T)\n",
    "for i in range(1, len(edge_index_list)):\n",
    "    edge_index_squashed = set(edge_index_list[i].T).union(edge_index_squashed)\n",
    "edge_index_squashed = list(edge_index_squashed)\n",
    "edge_index_list.append(edge_index_squashed)"
   ]
  },
  {
   "cell_type": "code",
   "execution_count": 7,
   "metadata": {},
   "outputs": [
    {
     "name": "stderr",
     "output_type": "stream",
     "text": [
      "/allen/programs/celltypes/workgroups/mousecelltypes/Donghyun/envs/miniconda3/envs/pyg/lib/python3.9/site-packages/sklearn/model_selection/_split.py:776: UserWarning: The least populated class in y has only 1 members, which is less than n_splits=5.\n",
      "  warnings.warn(\n"
     ]
    }
   ],
   "source": [
    "# Get stratified splits based on cell type label\n",
    "skf = StratifiedKFold(n_splits=5, shuffle=True, random_state=42)\n",
    "\n",
    "# Keep cells who are participants in the multilayer graph (more than 1 connection)\n",
    "keep = df[\"participant\"].values\n",
    "train_idx, test_idx = next(skf.split(np.arange(df[keep].shape[0]), df[cell_type][keep].values))\n",
    "\n",
    "train_mask = np.zeros(df.shape[0], dtype=bool)\n",
    "train_mask[train_idx] = True\n",
    "train_mask = torch.tensor(train_mask, dtype=torch.bool)\n",
    "\n",
    "test_mask = np.zeros(df.shape[0], dtype=bool)\n",
    "test_mask[test_idx] = True\n",
    "test_mask = torch.tensor(test_mask, dtype=torch.bool)\n",
    "\n",
    "labels = torch.tensor(df[cell_type].cat.codes.values, dtype=torch.long)\n",
    "\n",
    "multilayer_data = Data(x=None,\n",
    "            edge_index_list=edge_index_list,\n",
    "            y=labels,\n",
    "            train_mask=train_mask,\n",
    "            test_mask=test_mask)"
   ]
  },
  {
   "cell_type": "code",
   "execution_count": 8,
   "metadata": {},
   "outputs": [],
   "source": [
    "# Edgelist from k nearest neighbors \n",
    "k = 10\n",
    "X = df[[ \"x_reconstructed\", \"y_reconstructed\"]]\n",
    "\n",
    "A = kneighbors_graph(X, n_neighbors=k, mode=\"distance\", include_self=False)\n",
    "\n",
    "edgelist_knn = torch.tensor(list(zip(A.tocoo().row, A.tocoo().col)))\n",
    "edgelist_knn = add_remaining_self_loops(edgelist_knn.T)[0]"
   ]
  },
  {
   "cell_type": "code",
   "execution_count": 9,
   "metadata": {},
   "outputs": [
    {
     "data": {
      "text/plain": [
       "0 \n",
       "0     2685\n",
       "1     1343\n",
       "2      912\n",
       "3      800\n",
       "4      782\n",
       "5      743\n",
       "6      683\n",
       "7      630\n",
       "8      426\n",
       "9      198\n",
       "10      40\n",
       "Name: count, dtype: int64"
      ]
     },
     "execution_count": 9,
     "metadata": {},
     "output_type": "execute_result"
    }
   ],
   "source": [
    "# Given a knn adjacency matrix, find how many cells are connected to other cells of the same type\n",
    "celltype_match_cnt = []\n",
    "nodes_to_include = []\n",
    "nodes_excluded = []\n",
    "for i in range(num_nodes):\n",
    "    ind = np.argwhere(A[i].toarray().flatten() > 0).flatten()\n",
    "    neighbors = df.iloc[ind, df.columns.get_loc(cell_type)]\n",
    "    neighbors = Counter(list(neighbors))\n",
    "    origin = df.iloc[i, df.columns.get_loc(cell_type)]\n",
    "    origin_neighbor_match_cnt = neighbors.get(origin, 0)\n",
    "    celltype_match_cnt.append(origin_neighbor_match_cnt)\n",
    "\n",
    "pd.DataFrame(celltype_match_cnt).value_counts()"
   ]
  },
  {
   "cell_type": "code",
   "execution_count": 10,
   "metadata": {},
   "outputs": [],
   "source": [
    "# Edgelist consisting of self-edges\n",
    "edgelist_self = torch.tensor([[i, i] for i in range(num_nodes)])\n",
    "edgelist_self = edgelist_self.T\n",
    "\n",
    "# Edgelist from squashed mult-layer graph\n",
    "edgelist_squashed = torch.stack(edge_index_list[-1], dim=0)\n",
    "edgelist_squashed = add_remaining_self_loops(edgelist_squashed.T)[0]"
   ]
  },
  {
   "cell_type": "code",
   "execution_count": 63,
   "metadata": {},
   "outputs": [],
   "source": [
    "# Generate new gene subsets by passing a list that specifies the size of each subset (with ratios)\n",
    "gene_subsets_new = get_new_gene_subsets(adata, [0.01, 0.01, 0.01])"
   ]
  },
  {
   "cell_type": "code",
   "execution_count": 43,
   "metadata": {},
   "outputs": [],
   "source": [
    "# Subsets of genes used to generate results shown below\n",
    "gene_subsets = [\n",
    "[['Slc1a3', 'Sp8', 'Prom1', 'Gja1', 'Mkx'], \n",
    "['Slc1a3', 'Sp8', 'Prom1', 'Gja1', 'Mkx', 'Blank-2', 'Glis3', 'Acta2', 'Ramp3', 'Sla'], \n",
    "['Slc1a3', 'Sp8', 'Prom1', 'Gja1', 'Mkx', 'Blank-2', 'Glis3', 'Acta2', 'Ramp3', 'Sla', 'St3gal1', 'Gpc3', 'Ptger3', 'Kcnj5', 'Medag']]]"
   ]
  },
  {
   "cell_type": "code",
   "execution_count": 65,
   "metadata": {},
   "outputs": [],
   "source": [
    "# Specify which subset to use as features\n",
    "gene_subset_idx = 0\n",
    "one_sec_gene_subset = one_sec[:, gene_subsets_new[gene_subset_idx]]\n",
    "one_sec_x = torch.tensor(one_sec_gene_subset.X.todense(), dtype=torch.float)\n",
    "\n",
    "# Create PYG data objects from the 3 different edgelists\n",
    "\n",
    "data_knn = Data(x=one_sec_x,\n",
    "            edge_index=edgelist_knn,\n",
    "            y=labels,\n",
    "            train_mask=train_mask,\n",
    "            test_mask=test_mask)\n",
    "\n",
    "data_self = Data(x=one_sec_x,\n",
    "            edge_index=edgelist_self,\n",
    "            y=labels,\n",
    "            train_mask=train_mask,\n",
    "            test_mask=test_mask)\n",
    "\n",
    "data_squashed = Data(x=one_sec_x,\n",
    "                edge_index=edgelist_squashed,\n",
    "                y=labels,\n",
    "                train_mask=train_mask,\n",
    "                test_mask=test_mask)"
   ]
  },
  {
   "cell_type": "code",
   "execution_count": 66,
   "metadata": {},
   "outputs": [],
   "source": [
    "# Create GATv2 models\n",
    "model_knn = GATnet(hidden_channels=32, num_features = data_knn.x.shape[1] , num_classes = torch.unique(data_knn.y).size()[0] )\n",
    "model_self = GATnet(hidden_channels=32, num_features = data_self.x.shape[1] , num_classes = torch.unique(data_self.y).size()[0] )\n",
    "model_squashed = GATnet(hidden_channels=32, num_features = data_squashed.x.shape[1] , num_classes = torch.unique(data_squashed.y).size()[0] )"
   ]
  },
  {
   "cell_type": "code",
   "execution_count": 67,
   "metadata": {},
   "outputs": [
    {
     "name": "stdout",
     "output_type": "stream",
     "text": [
      "Self edge accuracy: 0.1710\n"
     ]
    }
   ],
   "source": [
    "#Train GNN to predict celltyped with self edges\n",
    "def self_edges(model_self, data_self):\n",
    "    optimizer_self = torch.optim.Adam(model_self.parameters(), lr=0.001, weight_decay=5e-4)\n",
    "    criterion = torch.nn.CrossEntropyLoss()\n",
    "\n",
    "    for epoch in range(1, 101):\n",
    "        loss = train_gnn(model_self, optimizer_self, data_self, criterion)\n",
    "        val_acc = test_gnn(model_self, data_self)\n",
    "        # print(f\"Epoch: {epoch:03d}, Loss: {loss:.4f}, Val acc: {val_acc:.4f}\")\n",
    "\n",
    "    model_self.eval()\n",
    "    val_acc = test_gnn(model_self, data_self)\n",
    "    print(f'Self edge accuracy: {val_acc:.4f}')\n",
    "    return val_acc\n",
    "self_edges(model_self, data_self)    "
   ]
  },
  {
   "cell_type": "code",
   "execution_count": 68,
   "metadata": {},
   "outputs": [
    {
     "name": "stdout",
     "output_type": "stream",
     "text": [
      "KNN accuracy: 0.1898\n"
     ]
    }
   ],
   "source": [
    "#Train GNN to predict celltyped with KNN edges\n",
    "def knn_edges(model_knn, data_knn):\n",
    "    optimizer_knn = torch.optim.Adam(model_knn.parameters(), lr=0.001, weight_decay=5e-4)\n",
    "    criterion = torch.nn.CrossEntropyLoss()\n",
    "\n",
    "    for epoch in range(1, 101):\n",
    "        loss = train_gnn(model_knn, optimizer_knn, data_knn, criterion)\n",
    "        val_acc = test_gnn(model_knn, data_knn)\n",
    "        # print(f\"Epoch: {epoch:03d}, Loss: {loss:.4f}, Val acc: {val_acc:.4f}\")\n",
    "\n",
    "    model_knn.eval()\n",
    "    val_acc = test_gnn(model_knn, data_knn)\n",
    "    print(f'KNN accuracy: {val_acc:.4f}')\n",
    "    return val_acc\n",
    "knn_edges(model_knn, data_knn)"
   ]
  },
  {
   "cell_type": "code",
   "execution_count": 69,
   "metadata": {},
   "outputs": [
    {
     "name": "stdout",
     "output_type": "stream",
     "text": [
      "Multilayer graph accuracy: 0.1804\n"
     ]
    }
   ],
   "source": [
    "##Train GNN to predict celltypes with a squashed multilayer graph\n",
    "def multilayer_edges(model_lr, data_lr):\n",
    "    optimizer_lr = torch.optim.Adam(model_lr.parameters(), lr=0.001, weight_decay=5e-4)\n",
    "    criterion = torch.nn.CrossEntropyLoss()\n",
    "\n",
    "    for epoch in range(1, 101):\n",
    "        loss = train_gnn(model_lr, optimizer_lr, data_lr, criterion)\n",
    "        val_acc = test_gnn(model_lr, data_lr)\n",
    "        # print(f\"Epoch: {epoch:03d}, Loss: {loss:.4f}, Val acc: {val_acc:.4f}\")\n",
    "\n",
    "    model_lr.eval()\n",
    "    val_acc = test_gnn(model_lr, data_lr)\n",
    "    print(f'Multilayer graph accuracy: {val_acc:.4f}')\n",
    "    return val_acc\n",
    "multilayer_edges(model_squashed, data_squashed)    "
   ]
  }
 ],
 "metadata": {
  "kernelspec": {
   "display_name": "cci",
   "language": "python",
   "name": "python3"
  },
  "language_info": {
   "codemirror_mode": {
    "name": "ipython",
    "version": 3
   },
   "file_extension": ".py",
   "mimetype": "text/x-python",
   "name": "python",
   "nbconvert_exporter": "python",
   "pygments_lexer": "ipython3",
   "version": "3.9.19"
  }
 },
 "nbformat": 4,
 "nbformat_minor": 2
}
